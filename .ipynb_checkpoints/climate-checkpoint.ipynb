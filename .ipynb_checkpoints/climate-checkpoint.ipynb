{
 "cells": [
  {
   "cell_type": "markdown",
   "id": "a76c2c59-b2ec-4bf8-be34-78b621ab93ba",
   "metadata": {},
   "source": [
    "Data from https://www.ncei.noaa.gov/pub/data/paleo/icecore/antarctica/epica_domec/edc3-composite-co2-2008-noaa.txt"
   ]
  },
  {
   "cell_type": "code",
   "execution_count": 47,
   "id": "11ba3775-d665-418f-9cf2-e6c312a8e2c9",
   "metadata": {},
   "outputs": [],
   "source": [
    "import csv\n",
    "import numpy as np\n",
    "import pandas as pd\n",
    "\n",
    "with open('edc3-composite-co2-2008-noaa.txt', mode ='r')as file:\n",
    "    co_data = filter(lambda line: not line[0].startswith('#'), csv.reader(file))\n",
    "    #for line in co_data:\n",
    "        #print(line[0].split('\\t'))\n",
    "    #    pass\n",
    "    #print(co_data)\n",
    "    headers = list(co_data).pop()\n",
    "    df = pd.DataFrame(co_data, columns=headers)\n",
    "    df\n",
    "    #df.plot(x='gas_ageBP', y='CO2');"
   ]
  },
  {
   "cell_type": "code",
   "execution_count": null,
   "id": "635f4d61-ee43-49f3-8c4d-158c1d363ff3",
   "metadata": {},
   "outputs": [],
   "source": []
  }
 ],
 "metadata": {
  "kernelspec": {
   "display_name": "Python 3 (ipykernel)",
   "language": "python",
   "name": "python3"
  },
  "language_info": {
   "codemirror_mode": {
    "name": "ipython",
    "version": 3
   },
   "file_extension": ".py",
   "mimetype": "text/x-python",
   "name": "python",
   "nbconvert_exporter": "python",
   "pygments_lexer": "ipython3",
   "version": "3.8.10"
  }
 },
 "nbformat": 4,
 "nbformat_minor": 5
}
